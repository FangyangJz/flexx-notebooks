{
 "cells": [
  {
   "cell_type": "markdown",
   "metadata": {},
   "source": [
    "# Tutorial for flexx.event - properties and events"
   ]
  },
  {
   "cell_type": "code",
   "execution_count": 1,
   "metadata": {},
   "outputs": [],
   "source": [
    "%gui asyncio\n",
    "from flexx import event"
   ]
  },
  {
   "cell_type": "markdown",
   "metadata": {},
   "source": [
    "### Events\n",
    "In `flexx.event`, events are represented with dictionary objects that\n",
    "provide information about the event (such as what button was pressed,\n",
    "or the new value of a property). A custom `Dict` class is used that inherits from ``dict`` and allows attribute access,\n",
    "e.g. ``ev.button`` as an alternative to ``ev['button']``."
   ]
  },
  {
   "cell_type": "markdown",
   "metadata": {},
   "source": [
    "### Reactions\n",
    "\n",
    "Events originate from `Component` objects. When an event is emitted, it can be reacted upon."
   ]
  },
  {
   "cell_type": "code",
   "execution_count": 2,
   "metadata": {},
   "outputs": [],
   "source": [
    "class MyObject(event.Component):\n",
    "    \n",
    "    @event.reaction('!foo')\n",
    "    def on_foo(self, *events):\n",
    "        print('received the foo event %i times' % len(events))\n",
    "\n",
    "ob = MyObject()"
   ]
  },
  {
   "cell_type": "code",
   "execution_count": 3,
   "metadata": {},
   "outputs": [
    {
     "name": "stdout",
     "output_type": "stream",
     "text": [
      "received the foo event 3 times\n"
     ]
    }
   ],
   "source": [
    "for i in range(3):\n",
    "    ob.emit('foo', {})"
   ]
  },
  {
   "cell_type": "markdown",
   "metadata": {},
   "source": [
    "Note how the reaction is connected using a \"connection string\", which (in this case) indicates we connect to the type \"foo\" event of the object. The connection string allows some powerful mechanics, as we will see later in this tutorial. Here, we prefixed the connection string with \"!\", to supress a warning that Flexx would otherwise give, because it does not know about the \"foo\" event.\n",
    "\n",
    "Also note how the reaction accepts multiple events at once. This means that in situations where we only care about something being changed, we can skip \"duplicate\" events. In situation where each individual event needs processing, use `for ev in events: ...`."
   ]
  },
  {
   "cell_type": "markdown",
   "metadata": {},
   "source": [
    "Reactions can also be used as normal methods:"
   ]
  },
  {
   "cell_type": "code",
   "execution_count": 4,
   "metadata": {},
   "outputs": [
    {
     "name": "stdout",
     "output_type": "stream",
     "text": [
      "received the foo event 0 times\n"
     ]
    }
   ],
   "source": [
    "ob.on_foo()"
   ]
  },
  {
   "cell_type": "markdown",
   "metadata": {},
   "source": [
    "A reaction can also connect to multiple events:"
   ]
  },
  {
   "cell_type": "code",
   "execution_count": 5,
   "metadata": {},
   "outputs": [
    {
     "data": {
      "text/plain": [
       "Dict([('type', 'bar'), ('source', <Component 'MyObject2' at 0x1a8d51e49b0>)])"
      ]
     },
     "execution_count": 5,
     "metadata": {},
     "output_type": "execute_result"
    },
    {
     "name": "stdout",
     "output_type": "stream",
     "text": [
      "received the foo event\n",
      "received the foo event\n",
      "received the bar event\n"
     ]
    }
   ],
   "source": [
    "class MyObject(event.Component):\n",
    "        \n",
    "    @event.reaction('!foo', '!bar')\n",
    "    def on_foo_or_bar(self, *events):\n",
    "        for ev in events:\n",
    "            print('received the %s event' % ev.type)\n",
    "\n",
    "ob = MyObject()\n",
    "ob.emit('foo', {}); ob.emit('foo', {}); ob.emit('bar', {})"
   ]
  },
  {
   "cell_type": "markdown",
   "metadata": {},
   "source": [
    "### Properties\n",
    "Properties represent the state of a component."
   ]
  },
  {
   "cell_type": "code",
   "execution_count": 6,
   "metadata": {},
   "outputs": [
    {
     "name": "stdout",
     "output_type": "stream",
     "text": [
      "foo changed from 2 to 2\n"
     ]
    }
   ],
   "source": [
    "class MyObject(event.Component):\n",
    "    \n",
    "    foo = event.IntProp(2, settable=True)\n",
    "        \n",
    "    @event.reaction('foo')\n",
    "    def on_foo(self, *events):\n",
    "        print('foo changed from', events[0].old_value, 'to', events[-1].new_value)\n",
    "\n",
    "ob = MyObject()"
   ]
  },
  {
   "cell_type": "code",
   "execution_count": 7,
   "metadata": {},
   "outputs": [
    {
     "data": {
      "text/plain": [
       "<Component 'MyObject3' at 0x1a8d51e44a8>"
      ]
     },
     "execution_count": 7,
     "metadata": {},
     "output_type": "execute_result"
    },
    {
     "name": "stdout",
     "output_type": "stream",
     "text": [
      "foo changed from 2 to 7\n"
     ]
    }
   ],
   "source": [
    "ob.set_foo(7)"
   ]
  },
  {
   "cell_type": "code",
   "execution_count": 8,
   "metadata": {},
   "outputs": [
    {
     "name": "stdout",
     "output_type": "stream",
     "text": [
      "7\n"
     ]
    }
   ],
   "source": [
    "print(ob.foo)"
   ]
  },
  {
   "cell_type": "markdown",
   "metadata": {},
   "source": [
    "Properties can also be set during initialization."
   ]
  },
  {
   "cell_type": "code",
   "execution_count": 9,
   "metadata": {},
   "outputs": [
    {
     "name": "stdout",
     "output_type": "stream",
     "text": [
      "foo changed from 12 to 12\n"
     ]
    }
   ],
   "source": [
    "ob = MyObject(foo=12)"
   ]
  },
  {
   "cell_type": "markdown",
   "metadata": {},
   "source": [
    "Properties are readonly. This may seem like a limitation at first, but it helps make apps more predictable, especially as they become larger. Properties can be mutated using actions. In the above example, a setter action was created automatically because we specified `setter=True` in the definition of the property."
   ]
  },
  {
   "cell_type": "markdown",
   "metadata": {},
   "source": [
    "### Actions\n",
    "Actions are special functions that are invoked asynchronously, i.e. when they are invoked (called) the action itself is applied in a futre iteration of the event loop. (The `%gui asyncio` at the top of the notebook makes sure that Flexx' event loop is running.)"
   ]
  },
  {
   "cell_type": "code",
   "execution_count": 10,
   "metadata": {},
   "outputs": [
    {
     "name": "stdout",
     "output_type": "stream",
     "text": [
      "foo changed from 2 to 2\n"
     ]
    }
   ],
   "source": [
    "class MyObject(event.Component):\n",
    "    \n",
    "    foo = event.IntProp(2, settable=True)\n",
    "    \n",
    "    @event.action\n",
    "    def increase_foo(self):\n",
    "        self._mutate_foo(self.foo + 1)\n",
    "    \n",
    "    @event.reaction('foo')\n",
    "    def on_foo(self, *events):\n",
    "        print('foo changed from', events[0].old_value, 'to', events[-1].new_value)\n",
    "\n",
    "ob = MyObject()"
   ]
  },
  {
   "cell_type": "code",
   "execution_count": 11,
   "metadata": {},
   "outputs": [
    {
     "data": {
      "text/plain": [
       "<Component 'MyObject5' at 0x1a8d51f3f98>"
      ]
     },
     "execution_count": 11,
     "metadata": {},
     "output_type": "execute_result"
    },
    {
     "name": "stdout",
     "output_type": "stream",
     "text": [
      "foo changed from 2 to 3\n"
     ]
    }
   ],
   "source": [
    "ob.increase_foo()"
   ]
  },
  {
   "cell_type": "markdown",
   "metadata": {},
   "source": [
    "The action above mutates the foo property. Properties can only be mutated by actions. This ensures that the state of a component (and of the whole app) is consistent during the handling of reactions."
   ]
  },
  {
   "cell_type": "markdown",
   "metadata": {},
   "source": [
    "### Emitters\n",
    "Emitters make it easy to generate events from specific input (e.g. an event from another kind of event system) and act as a placeholder for the docs of public events."
   ]
  },
  {
   "cell_type": "code",
   "execution_count": 12,
   "metadata": {},
   "outputs": [],
   "source": [
    "class MyObject(event.Component):\n",
    "\n",
    "    @event.emitter\n",
    "    def mouse_down(self, js_event):\n",
    "        ''' Event emitted when the mouse is pressed down. '''\n",
    "        return dict(button=js_event['button'])\n",
    "    \n",
    "    @event.reaction('mouse_down')\n",
    "    def on_bar(self, *events):\n",
    "        for ev in events:\n",
    "            print('detected mouse_down, button', ev.button)\n",
    "\n",
    "ob = MyObject()"
   ]
  },
  {
   "cell_type": "code",
   "execution_count": 13,
   "metadata": {},
   "outputs": [
    {
     "name": "stdout",
     "output_type": "stream",
     "text": [
      "detected mouse_down, button 1\n",
      "detected mouse_down, button 2\n"
     ]
    }
   ],
   "source": [
    "ob.mouse_down({'button': 1})\n",
    "ob.mouse_down({'button': 2})"
   ]
  },
  {
   "cell_type": "markdown",
   "metadata": {},
   "source": [
    "### Implicit reactions\n",
    "Implicit reactions make it easy to write concise code that needs to keep track of state. To create an implicit reaction, simply provide no connection strings. The reaction will now automatically track all properties that the reaction is accessing. This even works dynamically, e.g. when accessing a property on each element in a list property, the reaction will automatically \"reconnect\" when the list changes.\n"
   ]
  },
  {
   "cell_type": "code",
   "execution_count": 14,
   "metadata": {},
   "outputs": [
    {
     "name": "stdout",
     "output_type": "stream",
     "text": [
      "foo changed is now 2\n"
     ]
    }
   ],
   "source": [
    "class MyObject(event.Component):\n",
    "    \n",
    "    foo = event.IntProp(2, settable=True)\n",
    "      \n",
    "    @event.reaction\n",
    "    def on_foo(self):\n",
    "        print('foo changed is now', self.foo)\n",
    "\n",
    "ob = MyObject()"
   ]
  },
  {
   "cell_type": "code",
   "execution_count": 15,
   "metadata": {},
   "outputs": [
    {
     "data": {
      "text/plain": [
       "<Component 'MyObject7' at 0x1a8d5214198>"
      ]
     },
     "execution_count": 15,
     "metadata": {},
     "output_type": "execute_result"
    },
    {
     "name": "stdout",
     "output_type": "stream",
     "text": [
      "foo changed is now 99\n"
     ]
    }
   ],
   "source": [
    "ob.set_foo(99)"
   ]
  },
  {
   "cell_type": "markdown",
   "metadata": {},
   "source": [
    "### Labels\n",
    "Labels are a feature that makes it possible to infuence the order by\n",
    "which event handlers are called, and provide a means to disconnect\n",
    "specific (groups of) handlers. The label is part of the connection\n",
    "string: 'foo.bar:label'."
   ]
  },
  {
   "cell_type": "code",
   "execution_count": 16,
   "metadata": {},
   "outputs": [],
   "source": [
    "class MyObject(event.Component):\n",
    "\n",
    "    @event.reaction('!foo:bb')\n",
    "    def foo_handler1(self, *events):\n",
    "        print('foo B')\n",
    "\n",
    "    @event.reaction('!foo:cc')\n",
    "    def foo_handler2(self, *events):\n",
    "        print('foo C')\n",
    "    \n",
    "    @event.reaction('!foo:aa')\n",
    "    def foo_handler3(self, *events):\n",
    "        print('foo A')\n",
    "\n",
    "ob = MyObject()"
   ]
  },
  {
   "cell_type": "code",
   "execution_count": 17,
   "metadata": {},
   "outputs": [
    {
     "data": {
      "text/plain": [
       "Dict([('type', 'foo'), ('source', <Component 'MyObject8' at 0x1a8d52264e0>)])"
      ]
     },
     "execution_count": 17,
     "metadata": {},
     "output_type": "execute_result"
    },
    {
     "name": "stdout",
     "output_type": "stream",
     "text": [
      "foo A\n",
      "foo B\n",
      "foo C\n"
     ]
    }
   ],
   "source": [
    "ob.emit('foo', {})"
   ]
  },
  {
   "cell_type": "code",
   "execution_count": 18,
   "metadata": {},
   "outputs": [
    {
     "data": {
      "text/plain": [
       "Dict([('type', 'foo'), ('source', <Component 'MyObject8' at 0x1a8d52264e0>)])"
      ]
     },
     "execution_count": 18,
     "metadata": {},
     "output_type": "execute_result"
    },
    {
     "name": "stdout",
     "output_type": "stream",
     "text": [
      "foo A\n",
      "foo C\n"
     ]
    }
   ],
   "source": [
    "ob.disconnect('foo:bb')\n",
    "ob.emit('foo', {})"
   ]
  },
  {
   "cell_type": "markdown",
   "metadata": {},
   "source": [
    "### Dynamism\n",
    "\n",
    "Dynamism is a concept that allows one to connect to events for which the source can change. It essentially allows events to be connected automatically, which greatly reduced boilerplate code. I makes it easy to connect different parts of an application in a robust way."
   ]
  },
  {
   "cell_type": "code",
   "execution_count": 19,
   "metadata": {},
   "outputs": [
    {
     "data": {
      "text/plain": [
       "<Component 'Root9' at 0x1a8d5233470>"
      ]
     },
     "execution_count": 19,
     "metadata": {},
     "output_type": "execute_result"
    },
    {
     "name": "stdout",
     "output_type": "stream",
     "text": [
      "total count is 6\n"
     ]
    }
   ],
   "source": [
    "class Root(event.Component):\n",
    "\n",
    "    children = event.TupleProp([], settable=True)\n",
    "    \n",
    "    @event.reaction('children', 'children*.count')\n",
    "    def update_total_count(self, *events):\n",
    "        total_count = sum([child.count for child in self.children])\n",
    "        print('total count is', total_count)\n",
    "\n",
    "class Sub(event.Component):    \n",
    "    count = event.IntProp(0, settable=True)\n",
    "\n",
    "root = Root()\n",
    "sub1, sub2, sub3 = Sub(count=1), Sub(count=2), Sub(count=3)\n",
    "root.set_children([sub1, sub2, sub3])"
   ]
  },
  {
   "cell_type": "markdown",
   "metadata": {},
   "source": [
    "Updating the `count` property on any of its children will invoke the callback:"
   ]
  },
  {
   "cell_type": "code",
   "execution_count": 20,
   "metadata": {},
   "outputs": [
    {
     "data": {
      "text/plain": [
       "<Component 'Sub10' at 0x1a8d5233320>"
      ]
     },
     "execution_count": 20,
     "metadata": {},
     "output_type": "execute_result"
    },
    {
     "name": "stdout",
     "output_type": "stream",
     "text": [
      "total count is 105\n"
     ]
    }
   ],
   "source": [
    "sub1.set_count(100)"
   ]
  },
  {
   "cell_type": "markdown",
   "metadata": {},
   "source": [
    "We also connected to the `children` property, so that the handler is also invoked when the children are added/removed:"
   ]
  },
  {
   "cell_type": "code",
   "execution_count": 21,
   "metadata": {},
   "outputs": [
    {
     "data": {
      "text/plain": [
       "<Component 'Root9' at 0x1a8d5233470>"
      ]
     },
     "execution_count": 21,
     "metadata": {},
     "output_type": "execute_result"
    },
    {
     "name": "stdout",
     "output_type": "stream",
     "text": [
      "total count is 5\n"
     ]
    }
   ],
   "source": [
    "root.set_children([sub2, sub3])"
   ]
  },
  {
   "cell_type": "markdown",
   "metadata": {},
   "source": [
    "Naturally, when the count on new children changes ..."
   ]
  },
  {
   "cell_type": "code",
   "execution_count": 22,
   "metadata": {},
   "outputs": [
    {
     "data": {
      "text/plain": [
       "<Component 'Root9' at 0x1a8d5233470>"
      ]
     },
     "execution_count": 22,
     "metadata": {},
     "output_type": "execute_result"
    },
    {
     "name": "stdout",
     "output_type": "stream",
     "text": [
      "total count is 3\n"
     ]
    }
   ],
   "source": [
    "sub4 = Sub()\n",
    "root.set_children([sub3, sub4])"
   ]
  },
  {
   "cell_type": "code",
   "execution_count": 23,
   "metadata": {},
   "outputs": [
    {
     "data": {
      "text/plain": [
       "<Component 'Sub13' at 0x1a8d5233ba8>"
      ]
     },
     "execution_count": 23,
     "metadata": {},
     "output_type": "execute_result"
    },
    {
     "name": "stdout",
     "output_type": "stream",
     "text": [
      "total count is 13\n"
     ]
    }
   ],
   "source": [
    "sub4.set_count(10)"
   ]
  },
  {
   "cell_type": "code",
   "execution_count": 24,
   "metadata": {},
   "outputs": [
    {
     "data": {
      "text/plain": [
       "<Component 'Sub10' at 0x1a8d5233320>"
      ]
     },
     "execution_count": 24,
     "metadata": {},
     "output_type": "execute_result"
    }
   ],
   "source": [
    "sub1.set_count(1000)  # no update, sub1 is not part of root's children"
   ]
  },
  {
   "cell_type": "markdown",
   "metadata": {
    "collapsed": true
   },
   "source": [
    "Note that the above example is a great candidate for using an implicit reaction. Try it!"
   ]
  },
  {
   "cell_type": "code",
   "execution_count": null,
   "metadata": {},
   "outputs": [],
   "source": []
  }
 ],
 "metadata": {
  "anaconda-cloud": {},
  "kernelspec": {
   "display_name": "Python [default]",
   "language": "python",
   "name": "python3"
  },
  "language_info": {
   "codemirror_mode": {
    "name": "ipython",
    "version": 3
   },
   "file_extension": ".py",
   "mimetype": "text/x-python",
   "name": "python",
   "nbconvert_exporter": "python",
   "pygments_lexer": "ipython3",
   "version": "3.6.1"
  }
 },
 "nbformat": 4,
 "nbformat_minor": 1
}
