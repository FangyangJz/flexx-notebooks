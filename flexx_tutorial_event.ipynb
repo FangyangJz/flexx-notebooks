{
 "cells": [
  {
   "cell_type": "markdown",
   "metadata": {},
   "source": [
    "# Tutorial for flexx.event - properties and events"
   ]
  },
  {
   "cell_type": "code",
   "execution_count": 1,
   "metadata": {
    "collapsed": true
   },
   "outputs": [],
   "source": [
    "from flexx import event"
   ]
  },
  {
   "cell_type": "markdown",
   "metadata": {},
   "source": [
    "### Events\n",
    "In `flexx.event`, events are represented with dictionary objects that\n",
    "provide information about the event (such as what button was pressed,\n",
    "or the new value of a property). A custom `Dict` class is used that inherits from ``dict`` but allows attribute access,\n",
    "e.g. ``ev.button`` as an alternative to ``ev['button']``."
   ]
  },
  {
   "cell_type": "markdown",
   "metadata": {},
   "source": [
    "### Handlers\n",
    "\n",
    "Events originate from `HasEvents` objects. When an event is emitted, it is reacted upon by handlers. Handlers can be created in a few different ways, but here is the recommended approach:"
   ]
  },
  {
   "cell_type": "code",
   "execution_count": 2,
   "metadata": {
    "collapsed": true
   },
   "outputs": [],
   "source": [
    "class MyObject(event.HasEvents):\n",
    "        \n",
    "    @event.connect('foo')\n",
    "    def on_foo(self, *events):\n",
    "        print('received the foo event %i times' % len(events))\n",
    "\n",
    "ob = MyObject()"
   ]
  },
  {
   "cell_type": "code",
   "execution_count": 3,
   "metadata": {
    "collapsed": false
   },
   "outputs": [
    {
     "data": {
      "text/plain": [
       "Dict([('type', 'foo'), ('source', <__main__.MyObject at 0x1e09a21fb00>)])"
      ]
     },
     "execution_count": 3,
     "metadata": {},
     "output_type": "execute_result"
    }
   ],
   "source": [
    "ob.emit('foo', {})"
   ]
  },
  {
   "cell_type": "code",
   "execution_count": 4,
   "metadata": {
    "collapsed": false
   },
   "outputs": [
    {
     "name": "stdout",
     "output_type": "stream",
     "text": [
      "received the foo event 1 times\n"
     ]
    },
    {
     "data": {
      "text/plain": [
       "Dict([('type', 'foo'), ('source', <__main__.MyObject at 0x1e09a21fb00>)])"
      ]
     },
     "execution_count": 4,
     "metadata": {},
     "output_type": "execute_result"
    }
   ],
   "source": [
    "ob.emit('foo', {}); ob.emit('foo', {})"
   ]
  },
  {
   "cell_type": "markdown",
   "metadata": {},
   "source": [
    "Note how the handler connects using a \"connection string\", which (in this case) indicates we connect to the type \"foo\" event of the object. The connection string allows some powerful mechanics, as we will see later in this tutorial.\n",
    "\n",
    "Also note how the handler accepts multiple events at once. This means that in situations where we only care about something being changed, we can skip \"duplicate\" events. In situation where each individual event needs processing, use `for ev in events: ...`."
   ]
  },
  {
   "cell_type": "markdown",
   "metadata": {},
   "source": [
    "Handlers also behave as functions. It may not always be applicable, but you can call a handler without any events:"
   ]
  },
  {
   "cell_type": "code",
   "execution_count": 5,
   "metadata": {
    "collapsed": false
   },
   "outputs": [
    {
     "name": "stdout",
     "output_type": "stream",
     "text": [
      "received the foo event 2 times\n",
      "received the foo event 0 times\n"
     ]
    }
   ],
   "source": [
    "ob.on_foo()"
   ]
  },
  {
   "cell_type": "markdown",
   "metadata": {},
   "source": [
    "A handler can also connect to multiple events:"
   ]
  },
  {
   "cell_type": "code",
   "execution_count": 6,
   "metadata": {
    "collapsed": false
   },
   "outputs": [
    {
     "data": {
      "text/plain": [
       "Dict([('type', 'bar'), ('source', <__main__.MyObject at 0x1e09a23e5c0>)])"
      ]
     },
     "execution_count": 6,
     "metadata": {},
     "output_type": "execute_result"
    }
   ],
   "source": [
    "class MyObject(event.HasEvents):\n",
    "        \n",
    "    @event.connect('foo', 'bar')\n",
    "    def on_foo_or_bar(self, *events):\n",
    "        for ev in events:\n",
    "            print('received the %s event' % ev.type)\n",
    "\n",
    "ob = MyObject()\n",
    "ob.emit('foo', {}); ob.emit('foo', {}); ob.emit('bar', {})"
   ]
  },
  {
   "cell_type": "markdown",
   "metadata": {},
   "source": [
    "Handlers do not need to be ob the object itself:"
   ]
  },
  {
   "cell_type": "code",
   "execution_count": 7,
   "metadata": {
    "collapsed": false
   },
   "outputs": [
    {
     "name": "stdout",
     "output_type": "stream",
     "text": [
      "received the foo event\n",
      "received the foo event\n",
      "received the bar event\n"
     ]
    },
    {
     "data": {
      "text/plain": [
       "<Handler 'on_bar' with 1 connections at 0x1e09a23ec88>"
      ]
     },
     "execution_count": 7,
     "metadata": {},
     "output_type": "execute_result"
    }
   ],
   "source": [
    "@ob.connect('foo')\n",
    "def on_foo(*events):\n",
    "    print('foo in other handler')\n",
    "\n",
    "def on_bar(*events):\n",
    "    print('bar in other handler')\n",
    "\n",
    "ob.connect(on_bar, 'bar')  # \"classic\" connect method"
   ]
  },
  {
   "cell_type": "code",
   "execution_count": 8,
   "metadata": {
    "collapsed": false
   },
   "outputs": [
    {
     "data": {
      "text/plain": [
       "Dict([('type', 'bar'), ('source', <__main__.MyObject at 0x1e09a23e5c0>)])"
      ]
     },
     "execution_count": 8,
     "metadata": {},
     "output_type": "execute_result"
    }
   ],
   "source": [
    "ob.emit('foo', {}); ob.emit('bar', {})"
   ]
  },
  {
   "cell_type": "markdown",
   "metadata": {},
   "source": [
    "### Properties\n",
    "There are three constructs that automatically generate events. The first are properties."
   ]
  },
  {
   "cell_type": "code",
   "execution_count": 9,
   "metadata": {
    "collapsed": false
   },
   "outputs": [
    {
     "name": "stdout",
     "output_type": "stream",
     "text": [
      "foo in other handler\n",
      "received the foo event\n",
      "received the bar event\n",
      "bar in other handler\n"
     ]
    }
   ],
   "source": [
    "class MyObject(event.HasEvents):\n",
    "\n",
    "    @event.prop\n",
    "    def foo(self, v=2):\n",
    "        ''' This is a float indicating some value '''\n",
    "        return float(v)\n",
    "    \n",
    "    @event.connect('foo')\n",
    "    def on_foo(self, *events):\n",
    "        print('foo changed to', events[-1].new_value)\n",
    "\n",
    "ob = MyObject()"
   ]
  },
  {
   "cell_type": "code",
   "execution_count": 10,
   "metadata": {
    "collapsed": false
   },
   "outputs": [
    {
     "name": "stdout",
     "output_type": "stream",
     "text": [
      "foo changed to 2.0\n"
     ]
    }
   ],
   "source": [
    "ob.foo = 7"
   ]
  },
  {
   "cell_type": "code",
   "execution_count": 11,
   "metadata": {
    "collapsed": false
   },
   "outputs": [
    {
     "name": "stdout",
     "output_type": "stream",
     "text": [
      "foo changed to 7.0\n",
      "7.0\n"
     ]
    }
   ],
   "source": [
    "print(ob.foo)"
   ]
  },
  {
   "cell_type": "markdown",
   "metadata": {},
   "source": [
    "The function that is decorator is the setter function that is used to validate and normalize the input. The default value for `foo` above is `2`. An initial value can be provided like so:"
   ]
  },
  {
   "cell_type": "code",
   "execution_count": 12,
   "metadata": {
    "collapsed": false
   },
   "outputs": [],
   "source": [
    "ob = MyObject(foo=12)"
   ]
  },
  {
   "cell_type": "markdown",
   "metadata": {},
   "source": [
    "### Readonly\n",
    "Readonly properties are similar to normal properties, except that they cannot be set."
   ]
  },
  {
   "cell_type": "code",
   "execution_count": 13,
   "metadata": {
    "collapsed": false
   },
   "outputs": [
    {
     "name": "stdout",
     "output_type": "stream",
     "text": [
      "foo changed to 12.0\n"
     ]
    }
   ],
   "source": [
    "import time\n",
    "class MyObject(event.HasEvents):\n",
    "\n",
    "    @event.readonly\n",
    "    def bar(self, v):  # no initial value\n",
    "        ''' This is an int indicating some value '''\n",
    "        return int(v)\n",
    "    \n",
    "    @event.connect('bar')\n",
    "    def on_bar(self, *events):\n",
    "        print('bar changed to', events[-1].new_value)\n",
    "    \n",
    "    def do_it(self):\n",
    "        self._set_prop('bar', time.time())\n",
    "    \n",
    "ob = MyObject()"
   ]
  },
  {
   "cell_type": "code",
   "execution_count": 14,
   "metadata": {
    "collapsed": false
   },
   "outputs": [],
   "source": [
    "ob.do_it()"
   ]
  },
  {
   "cell_type": "code",
   "execution_count": 15,
   "metadata": {
    "collapsed": false
   },
   "outputs": [
    {
     "name": "stdout",
     "output_type": "stream",
     "text": [
      "bar changed to 1465308112\n"
     ]
    }
   ],
   "source": [
    "ob.do_it()"
   ]
  },
  {
   "cell_type": "markdown",
   "metadata": {},
   "source": [
    "### Emitters\n",
    "Emitters make it easy to generate events from specific input (e.g. an event from another kind of event system) and act as a placeholder for the docs of public events."
   ]
  },
  {
   "cell_type": "code",
   "execution_count": 16,
   "metadata": {
    "collapsed": true
   },
   "outputs": [],
   "source": [
    "class MyObject(event.HasEvents):\n",
    "\n",
    "    @event.emitter\n",
    "    def mouse_down(self, js_event):\n",
    "        ''' Event emitted when the mouse is pressed down. '''\n",
    "        return dict(button=js_event['button'])\n",
    "    \n",
    "    @event.connect('mouse_down')\n",
    "    def on_bar(self, *events):\n",
    "        for ev in events:\n",
    "            print('detected mouse_down, button', ev.button)\n",
    "\n",
    "ob = MyObject()"
   ]
  },
  {
   "cell_type": "code",
   "execution_count": 17,
   "metadata": {
    "collapsed": false
   },
   "outputs": [],
   "source": [
    "ob.mouse_down({'button': 1})\n",
    "ob.mouse_down({'button': 2})"
   ]
  },
  {
   "cell_type": "markdown",
   "metadata": {},
   "source": [
    "### Labels\n",
    "Labels are a feature that makes it possible to infuence the order by\n",
    "which event handlers are called, and provide a means to disconnect\n",
    "specific (groups of) handlers. The label is part of the connection\n",
    "string: 'foo.bar:label'."
   ]
  },
  {
   "cell_type": "code",
   "execution_count": 18,
   "metadata": {
    "collapsed": false
   },
   "outputs": [
    {
     "name": "stdout",
     "output_type": "stream",
     "text": [
      "detected mouse_down, button 1\n",
      "detected mouse_down, button 2\n"
     ]
    }
   ],
   "source": [
    "class MyObject(event.HasEvents):\n",
    "\n",
    "    @event.connect('foo:bb')\n",
    "    def foo_handler1(*events):\n",
    "        print('foo B')\n",
    "\n",
    "    @event.connect('foo:cc')\n",
    "    def foo_handler2(*events):\n",
    "        print('foo C')\n",
    "    \n",
    "    @event.connect('foo:aa')\n",
    "    def foo_handler3(*events):\n",
    "        print('foo A')\n",
    "\n",
    "ob = MyObject()"
   ]
  },
  {
   "cell_type": "code",
   "execution_count": 19,
   "metadata": {
    "collapsed": false
   },
   "outputs": [
    {
     "data": {
      "text/plain": [
       "Dict([('type', 'foo'), ('source', <__main__.MyObject at 0x1e09a24f0f0>)])"
      ]
     },
     "execution_count": 19,
     "metadata": {},
     "output_type": "execute_result"
    }
   ],
   "source": [
    "ob.emit('foo', {})"
   ]
  },
  {
   "cell_type": "code",
   "execution_count": 20,
   "metadata": {
    "collapsed": false
   },
   "outputs": [
    {
     "name": "stdout",
     "output_type": "stream",
     "text": [
      "foo A\n",
      "foo B\n",
      "foo C\n"
     ]
    },
    {
     "data": {
      "text/plain": [
       "Dict([('type', 'foo'), ('source', <__main__.MyObject at 0x1e09a24f0f0>)])"
      ]
     },
     "execution_count": 20,
     "metadata": {},
     "output_type": "execute_result"
    }
   ],
   "source": [
    "ob.disconnect('foo:bb')\n",
    "ob.emit('foo', {})"
   ]
  },
  {
   "cell_type": "markdown",
   "metadata": {},
   "source": [
    "### Dynamism\n",
    "\n",
    "Dynamism is a concept that allows one to connect to events for which the source can change. It essentially allows events to be connected automatically, which greatly reduced boilerplate code. I makes it easy to connect different parts of an application in a robust way."
   ]
  },
  {
   "cell_type": "code",
   "execution_count": 23,
   "metadata": {
    "collapsed": false
   },
   "outputs": [
    {
     "name": "stdout",
     "output_type": "stream",
     "text": [
      "total count is 6\n"
     ]
    }
   ],
   "source": [
    "class Root(event.HasEvents):\n",
    "\n",
    "    @event.prop\n",
    "    def children(self, children):\n",
    "        assert all([isinstance(child, Sub) for child in children])\n",
    "        return tuple(children)\n",
    "    \n",
    "    @event.connect('children', 'children.*.count')\n",
    "    def update_total_count(self, *events):\n",
    "        total_count = sum([child.count for child in self.children])\n",
    "        print('total count is', total_count)\n",
    "\n",
    "class Sub(event.HasEvents):\n",
    "    \n",
    "    @event.prop\n",
    "    def count(self, count=0):\n",
    "        return int(count)\n",
    "\n",
    "root = Root()\n",
    "sub1, sub2, sub3 = Sub(count=1), Sub(count=2), Sub(count=3)\n",
    "root.children = sub1, sub2, sub3"
   ]
  },
  {
   "cell_type": "markdown",
   "metadata": {},
   "source": [
    "Updating the `count` property on any of its children will invoke the callback:"
   ]
  },
  {
   "cell_type": "code",
   "execution_count": 24,
   "metadata": {
    "collapsed": false
   },
   "outputs": [
    {
     "name": "stdout",
     "output_type": "stream",
     "text": [
      "total count is 105\n"
     ]
    }
   ],
   "source": [
    "sub1.count = 100"
   ]
  },
  {
   "cell_type": "markdown",
   "metadata": {},
   "source": [
    "We also connected to the `children` property, so that the handler is also invoked when the children are added/removed:"
   ]
  },
  {
   "cell_type": "code",
   "execution_count": 25,
   "metadata": {
    "collapsed": false
   },
   "outputs": [
    {
     "name": "stdout",
     "output_type": "stream",
     "text": [
      "total count is 5\n"
     ]
    }
   ],
   "source": [
    "root.children = sub2, sub3"
   ]
  },
  {
   "cell_type": "markdown",
   "metadata": {},
   "source": [
    "Naturally, when the count on new children changes ..."
   ]
  },
  {
   "cell_type": "code",
   "execution_count": 26,
   "metadata": {
    "collapsed": false
   },
   "outputs": [
    {
     "name": "stdout",
     "output_type": "stream",
     "text": [
      "total count is 3\n"
     ]
    }
   ],
   "source": [
    "sub4 = Sub()\n",
    "root.children = sub3, sub4"
   ]
  },
  {
   "cell_type": "code",
   "execution_count": 27,
   "metadata": {
    "collapsed": false
   },
   "outputs": [
    {
     "name": "stdout",
     "output_type": "stream",
     "text": [
      "total count is 13\n"
     ]
    }
   ],
   "source": [
    "sub4.count = 10"
   ]
  },
  {
   "cell_type": "code",
   "execution_count": 28,
   "metadata": {
    "collapsed": true
   },
   "outputs": [],
   "source": [
    "sub1.count = 1000  # no update, sub1 is not part of root's children"
   ]
  },
  {
   "cell_type": "code",
   "execution_count": null,
   "metadata": {
    "collapsed": true
   },
   "outputs": [],
   "source": []
  }
 ],
 "metadata": {
  "kernelspec": {
   "display_name": "Python 3",
   "language": "python",
   "name": "python3"
  },
  "language_info": {
   "codemirror_mode": {
    "name": "ipython",
    "version": 3
   },
   "file_extension": ".py",
   "mimetype": "text/x-python",
   "name": "python",
   "nbconvert_exporter": "python",
   "pygments_lexer": "ipython3",
   "version": "3.5.1"
  }
 },
 "nbformat": 4,
 "nbformat_minor": 0
}
