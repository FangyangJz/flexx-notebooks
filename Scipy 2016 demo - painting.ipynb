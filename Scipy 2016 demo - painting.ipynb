{
 "cells": [
  {
   "cell_type": "markdown",
   "metadata": {},
   "source": [
    "# Flexx demo - painting app"
   ]
  },
  {
   "cell_type": "code",
   "execution_count": null,
   "metadata": {
    "collapsed": false
   },
   "outputs": [],
   "source": [
    "from flexx import event, app, ui\n",
    "app.init_notebook()"
   ]
  },
  {
   "cell_type": "markdown",
   "metadata": {},
   "source": [
    "### Painter app in JS"
   ]
  },
  {
   "cell_type": "code",
   "execution_count": null,
   "metadata": {
    "collapsed": false
   },
   "outputs": [],
   "source": [
    "class Painter(ui.CanvasWidget):\n",
    "    \n",
    "    class JS:\n",
    "        def init(self):\n",
    "            self.ctx = self.node.getContext('2d')\n",
    "        \n",
    "        @event.connect('mouse_down')\n",
    "        def paint(self, *events):\n",
    "            for ev in events:\n",
    "                self.ctx.beginPath()\n",
    "                self.ctx.fillStyle = '#ff0000'\n",
    "                self.ctx.arc(ev.pos[0], ev.pos[1], 5, 0, 6.2831)\n",
    "                self.ctx.fill()\n",
    "\n",
    "p = Painter(style='height:200px')\n",
    "p"
   ]
  },
  {
   "cell_type": "markdown",
   "metadata": {},
   "source": [
    "### Add some Python in the mix"
   ]
  },
  {
   "cell_type": "code",
   "execution_count": null,
   "metadata": {
    "collapsed": false
   },
   "outputs": [],
   "source": [
    "def get_color():\n",
    "    colors = ['#f00', '#0f0', '#00f', '#ff0', '#f0f', '#00f']\n",
    "    index = int(time.time() % len(colors))\n",
    "    return colors[index]"
   ]
  },
  {
   "cell_type": "code",
   "execution_count": null,
   "metadata": {
    "collapsed": false
   },
   "outputs": [],
   "source": [
    "import time\n",
    "\n",
    "class Painter(ui.CanvasWidget):\n",
    "    \n",
    "    @event.connect('mouse_down')\n",
    "    def process_click(self, *events):\n",
    "        for ev in events:\n",
    "            self.emit('paint', dict(pos=ev.pos, color=get_color(), radius=8))\n",
    "    \n",
    "    class JS:\n",
    "        def init(self):\n",
    "            self.ctx = self.node.getContext('2d')\n",
    "        \n",
    "        @event.connect('paint')\n",
    "        def paint(self, *events):\n",
    "            for ev in events:\n",
    "                self.ctx.beginPath()\n",
    "                self.ctx.fillStyle = ev.color\n",
    "                self.ctx.arc(ev.pos[0], ev.pos[1], ev.radius, 0, 6.2831)\n",
    "                self.ctx.fill()\n",
    "\n",
    "p = Painter(style='height:200px')\n",
    "p"
   ]
  },
  {
   "cell_type": "markdown",
   "metadata": {},
   "source": [
    "### Apps are just widgets"
   ]
  },
  {
   "cell_type": "code",
   "execution_count": null,
   "metadata": {
    "collapsed": false
   },
   "outputs": [],
   "source": [
    "app.launch(Painter, 'xul')"
   ]
  },
  {
   "cell_type": "code",
   "execution_count": null,
   "metadata": {
    "collapsed": false
   },
   "outputs": [],
   "source": [
    "class MyApp(ui.Widget):\n",
    "    def init(self):\n",
    "        with ui.VBox():\n",
    "            ui.Label(text='Click to paint!')\n",
    "            Painter(flex=1)\n",
    "\n",
    "MyApp(style='height:200px')"
   ]
  },
  {
   "cell_type": "code",
   "execution_count": null,
   "metadata": {
    "collapsed": false
   },
   "outputs": [],
   "source": [
    "app.launch(MyApp, 'xul')"
   ]
  },
  {
   "cell_type": "markdown",
   "metadata": {},
   "source": [
    "### Taking it further ..."
   ]
  },
  {
   "cell_type": "markdown",
   "metadata": {},
   "source": [
    "* http://flexx.readthedocs.io/en/latest/ui/examples/colab_painting_src.html\n",
    "* http://52.21.93.28:8000"
   ]
  }
 ],
 "metadata": {
  "kernelspec": {
   "display_name": "Python 3",
   "language": "python",
   "name": "python3"
  },
  "language_info": {
   "codemirror_mode": {
    "name": "ipython",
    "version": 3
   },
   "file_extension": ".py",
   "mimetype": "text/x-python",
   "name": "python",
   "nbconvert_exporter": "python",
   "pygments_lexer": "ipython3",
   "version": "3.5.1"
  }
 },
 "nbformat": 4,
 "nbformat_minor": 0
}
