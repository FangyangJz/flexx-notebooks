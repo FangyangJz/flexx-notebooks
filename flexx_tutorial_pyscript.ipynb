{
 "cells": [
  {
   "cell_type": "markdown",
   "metadata": {},
   "source": [
    "# Tutorial for flexx.pyscript - Python to JavaScript transpilation"
   ]
  },
  {
   "cell_type": "code",
   "execution_count": 1,
   "metadata": {
    "collapsed": false
   },
   "outputs": [],
   "source": [
    "from flexx.pyscript import py2js, evalpy"
   ]
  },
  {
   "cell_type": "markdown",
   "metadata": {},
   "source": [
    "We can transpile strings of Python code:"
   ]
  },
  {
   "cell_type": "code",
   "execution_count": 2,
   "metadata": {
    "collapsed": false
   },
   "outputs": [
    {
     "name": "stdout",
     "output_type": "stream",
     "text": [
      "var py_range = function (start, end, step) {\n",
      "var i, res = [];\n",
      "    var val = start;\n",
      "    var n = (end - start) / step;\n",
      "    for (i=0; i<n; i++) {\n",
      "        res.push(val);\n",
      "        val += step;\n",
      "    }\n",
      "    return res;\n",
      "};\n",
      "var i;\n",
      "for (i = 0; i < 10; i += 1) {\n",
      "    console.log(i);\n",
      "}\n"
     ]
    }
   ],
   "source": [
    "js = py2js('for i in range(10): print(i)')\n",
    "print(js)"
   ]
  },
  {
   "cell_type": "markdown",
   "metadata": {},
   "source": [
    "Or actual Python functions:"
   ]
  },
  {
   "cell_type": "code",
   "execution_count": 3,
   "metadata": {
    "collapsed": false
   },
   "outputs": [
    {
     "name": "stdout",
     "output_type": "stream",
     "text": [
      "var py_range = function (start, end, step) {\n",
      "var i, res = [];\n",
      "    var val = start;\n",
      "    var n = (end - start) / step;\n",
      "    for (i=0; i<n; i++) {\n",
      "        res.push(val);\n",
      "        val += step;\n",
      "    }\n",
      "    return res;\n",
      "};\n",
      "var _py_append = function (x) { // nargs: 1\n",
      "    if (!Array.isArray(this)) return this.append.apply(this, arguments);\n",
      "    this.push(x);\n",
      "};\n",
      "var foo;\n",
      "foo = function (x) {\n",
      "    var i, res;\n",
      "    res = [];\n",
      "    for (i = 0; i < x; i += 1) {\n",
      "        _py_append.call(res, Math.pow(i, 2));\n",
      "    }\n",
      "    return res;\n",
      "};\n",
      "\n"
     ]
    }
   ],
   "source": [
    "def foo(x):\n",
    "    res = []\n",
    "    for i in range(x):\n",
    "        res.append(i**2)\n",
    "    return res\n",
    "js = py2js(foo)\n",
    "print(js)"
   ]
  },
  {
   "cell_type": "markdown",
   "metadata": {},
   "source": [
    "Let's try that again, but now with a list comprehension. (The JS is valid and will run fine, though its less readable.)"
   ]
  },
  {
   "cell_type": "code",
   "execution_count": 4,
   "metadata": {
    "collapsed": false
   },
   "outputs": [
    {
     "name": "stdout",
     "output_type": "stream",
     "text": [
      "var py_range = function (start, end, step) {\n",
      "var i, res = [];\n",
      "    var val = start;\n",
      "    var n = (end - start) / step;\n",
      "    for (i=0; i<n; i++) {\n",
      "        res.push(val);\n",
      "        val += step;\n",
      "    }\n",
      "    return res;\n",
      "};\n",
      "var foo;\n",
      "foo = function (x) {\n",
      "    return (function list_comprehenson () {var res = [];var i, iter0, i0;iter0 = py_range(0, x, 1);if ((typeof iter0 === \"object\") && (!Array.isArray(iter0))) {iter0 = Object.keys(iter0);}for (i0=0; i0<iter0.length; i0++) {i = iter0[i0];{res.push(Math.pow(i, 2));}}return res;}).apply(this);\n",
      "};\n",
      "\n"
     ]
    }
   ],
   "source": [
    "def foo(x):\n",
    "    return [i**2 for i in range(x)]\n",
    "js = py2js(foo)\n",
    "print(js)"
   ]
  },
  {
   "cell_type": "markdown",
   "metadata": {},
   "source": [
    "Classes are also supported, but not in the notebook (apparently Python cannot retrieve the source code in this case)."
   ]
  },
  {
   "cell_type": "code",
   "execution_count": 5,
   "metadata": {
    "collapsed": false
   },
   "outputs": [],
   "source": [
    "class Bar:\n",
    "    def spam(self):\n",
    "        return 3 + 4\n",
    "#js = py2js(Bar)\n",
    "# This only works if Bar is defined in an actual module."
   ]
  },
  {
   "cell_type": "markdown",
   "metadata": {},
   "source": [
    "Using `evalpy` you can evaluate Python code in NodeJS:"
   ]
  },
  {
   "cell_type": "code",
   "execution_count": 6,
   "metadata": {
    "collapsed": false
   },
   "outputs": [
    {
     "data": {
      "text/plain": [
       "'null'"
      ]
     },
     "execution_count": 6,
     "metadata": {},
     "output_type": "execute_result"
    }
   ],
   "source": [
    "evalpy('print(None)')"
   ]
  },
  {
   "cell_type": "code",
   "execution_count": null,
   "metadata": {
    "collapsed": true
   },
   "outputs": [],
   "source": []
  }
 ],
 "metadata": {
  "kernelspec": {
   "display_name": "Python 3",
   "language": "python",
   "name": "python3"
  },
  "language_info": {
   "codemirror_mode": {
    "name": "ipython",
    "version": 3
   },
   "file_extension": ".py",
   "mimetype": "text/x-python",
   "name": "python",
   "nbconvert_exporter": "python",
   "pygments_lexer": "ipython3",
   "version": "3.4.3"
  }
 },
 "nbformat": 4,
 "nbformat_minor": 0
}
